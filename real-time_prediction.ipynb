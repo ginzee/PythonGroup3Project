{
 "cells": [
  {
   "cell_type": "code",
   "execution_count": 46,
   "metadata": {},
   "outputs": [
    {
     "name": "stdout",
     "output_type": "stream",
     "text": [
      "\n",
      "Fetching Apple (AAPL) Share Prices from past year...\n",
      "        date ticker   close\n",
      "0 2024-01-02   AAPL  185.64\n",
      "1 2024-01-03   AAPL  184.25\n",
      "2 2024-01-04   AAPL  181.91\n",
      "3 2024-01-05   AAPL  181.18\n",
      "4 2024-01-08   AAPL  185.56\n",
      "5 2024-01-09   AAPL  185.14\n",
      "6 2024-01-10   AAPL  186.19\n",
      "7 2024-01-11   AAPL  185.59\n",
      "8 2024-01-12   AAPL  185.92\n",
      "9 2024-01-16   AAPL  183.63\n",
      "\n",
      "Fetching Apple (AAPL) Income Statement from past year...\n",
      "  ticker       date fiscal_period  fiscal_year       revenue    netIncome\n",
      "0   AAPL 2024-06-30            9M         2024  296105000000  79000000000\n",
      "1   AAPL 2024-09-30            FY         2024  391035000000  93736000000\n",
      "2   AAPL 2024-03-31            H1         2024  210328000000  57552000000\n",
      "3   AAPL 2024-09-30            H2         2024  180707000000  36184000000\n",
      "4   AAPL 2023-12-31            Q1         2024  119575000000  33916000000\n",
      "5   AAPL 2024-12-31            Q1         2025  124300000000  36330000000\n",
      "6   AAPL 2024-03-31            Q2         2024   90753000000  23636000000\n",
      "7   AAPL 2024-06-30            Q3         2024   85777000000  21448000000\n",
      "8   AAPL 2024-09-30            Q4         2024   94930000000  14736000000\n",
      "\n",
      "Fetching Apple (AAPL) Balance Sheet from past year...\n",
      "        date ticker  totalLiabilities  totalEquity\n",
      "0 2023-12-31   AAPL      279414000000  74100000000\n",
      "1 2024-12-31   AAPL      277327000000  66758000000\n",
      "2 2024-03-31   AAPL      263217000000  74194000000\n",
      "3 2024-06-30   AAPL      264904000000  66708000000\n",
      "4 2024-09-30   AAPL      308030000000  56950000000\n"
     ]
    }
   ],
   "source": [
    "# 🚀 **Test API Calls**\n",
    "if __name__ == \"__main__\":\n",
    "    import pandas as pd\n",
    "    api = SimFinAPI(\"b7f5ad1b-6cd9-4f19-983b-cfddaad8df9c\")\n",
    "\n",
    "    # **Test get_share_prices**\n",
    "    print(\"\\nFetching Apple (AAPL) Share Prices from past year...\")\n",
    "    share_prices_df = api.get_share_prices(\"AAPL\", \"2023-12-30\", \"2025-03-06\")\n",
    "    print(share_prices_df.head(10) if not share_prices_df.empty else \"No share price data retrieved.\")\n",
    "\n",
    "    # **Test get_income_statement**\n",
    "    print(\"\\nFetching Apple (AAPL) Income Statement from past year...\")\n",
    "    income_df = api.get_income_statement(\"AAPL\", \"2023-12-30\", \"2025-03-06\")\n",
    "    print(income_df.head(10) if not income_df.empty else \"No income statement data retrieved.\")\n",
    "\n",
    "    # **Test get_balance_sheet**\n",
    "    print(\"\\nFetching Apple (AAPL) Balance Sheet from past year...\")\n",
    "    balance_sheet_df = api.get_balance_sheet(\"AAPL\", \"2023-12-30\", \"2025-03-06\")\n",
    "    print(balance_sheet_df.head(10) if not balance_sheet_df.empty else \"No balance sheet data retrieved.\")"
   ]
  },
  {
   "cell_type": "code",
   "execution_count": 44,
   "metadata": {},
   "outputs": [
    {
     "name": "stdout",
     "output_type": "stream",
     "text": [
      "Share Prices DataFrame loaded from API or file: (295, 3)\n",
      "Income Statement DataFrame loaded from API or file: (9, 6)\n",
      "Balance Sheet DataFrame loaded from API or file: (5, 4)\n"
     ]
    }
   ],
   "source": [
    "print(f\"Share Prices DataFrame loaded from API or file: {share_prices_df.shape}\")\n",
    "print(f\"Income Statement DataFrame loaded from API or file: {income_df.shape}\")\n",
    "print(f\"Balance Sheet DataFrame loaded from API or file: {balance_sheet_df.shape}\")"
   ]
  },
  {
   "cell_type": "code",
   "execution_count": 31,
   "metadata": {},
   "outputs": [
    {
     "ename": "KeyError",
     "evalue": "'net_income'",
     "output_type": "error",
     "traceback": [
      "\u001b[0;31m---------------------------------------------------------------------------\u001b[0m",
      "\u001b[0;31mKeyError\u001b[0m                                  Traceback (most recent call last)",
      "File \u001b[0;32m/opt/anaconda3/envs/dalmaufc/lib/python3.8/site-packages/pandas/core/indexes/base.py:3653\u001b[0m, in \u001b[0;36mIndex.get_loc\u001b[0;34m(self, key)\u001b[0m\n\u001b[1;32m   3652\u001b[0m \u001b[38;5;28;01mtry\u001b[39;00m:\n\u001b[0;32m-> 3653\u001b[0m     \u001b[38;5;28;01mreturn\u001b[39;00m \u001b[38;5;28;43mself\u001b[39;49m\u001b[38;5;241;43m.\u001b[39;49m\u001b[43m_engine\u001b[49m\u001b[38;5;241;43m.\u001b[39;49m\u001b[43mget_loc\u001b[49m\u001b[43m(\u001b[49m\u001b[43mcasted_key\u001b[49m\u001b[43m)\u001b[49m\n\u001b[1;32m   3654\u001b[0m \u001b[38;5;28;01mexcept\u001b[39;00m \u001b[38;5;167;01mKeyError\u001b[39;00m \u001b[38;5;28;01mas\u001b[39;00m err:\n",
      "File \u001b[0;32m/opt/anaconda3/envs/dalmaufc/lib/python3.8/site-packages/pandas/_libs/index.pyx:147\u001b[0m, in \u001b[0;36mpandas._libs.index.IndexEngine.get_loc\u001b[0;34m()\u001b[0m\n",
      "File \u001b[0;32m/opt/anaconda3/envs/dalmaufc/lib/python3.8/site-packages/pandas/_libs/index.pyx:176\u001b[0m, in \u001b[0;36mpandas._libs.index.IndexEngine.get_loc\u001b[0;34m()\u001b[0m\n",
      "File \u001b[0;32mpandas/_libs/hashtable_class_helper.pxi:7080\u001b[0m, in \u001b[0;36mpandas._libs.hashtable.PyObjectHashTable.get_item\u001b[0;34m()\u001b[0m\n",
      "File \u001b[0;32mpandas/_libs/hashtable_class_helper.pxi:7088\u001b[0m, in \u001b[0;36mpandas._libs.hashtable.PyObjectHashTable.get_item\u001b[0;34m()\u001b[0m\n",
      "\u001b[0;31mKeyError\u001b[0m: 'net_income'",
      "\nThe above exception was the direct cause of the following exception:\n",
      "\u001b[0;31mKeyError\u001b[0m                                  Traceback (most recent call last)",
      "Cell \u001b[0;32mIn[31], line 17\u001b[0m\n\u001b[1;32m     14\u001b[0m merged_df\u001b[38;5;241m.\u001b[39mfillna(method\u001b[38;5;241m=\u001b[39m\u001b[38;5;124m\"\u001b[39m\u001b[38;5;124mffill\u001b[39m\u001b[38;5;124m\"\u001b[39m, inplace\u001b[38;5;241m=\u001b[39m\u001b[38;5;28;01mTrue\u001b[39;00m)\n\u001b[1;32m     16\u001b[0m \u001b[38;5;66;03m# Compute P/E ratio (Price-to-Earnings Ratio)\u001b[39;00m\n\u001b[0;32m---> 17\u001b[0m merged_df[\u001b[38;5;124m\"\u001b[39m\u001b[38;5;124mearnings_per_share\u001b[39m\u001b[38;5;124m\"\u001b[39m] \u001b[38;5;241m=\u001b[39m \u001b[43mmerged_df\u001b[49m\u001b[43m[\u001b[49m\u001b[38;5;124;43m\"\u001b[39;49m\u001b[38;5;124;43mnet_income\u001b[39;49m\u001b[38;5;124;43m\"\u001b[39;49m\u001b[43m]\u001b[49m \u001b[38;5;241m/\u001b[39m merged_df[\u001b[38;5;124m\"\u001b[39m\u001b[38;5;124mshare_capital\u001b[39m\u001b[38;5;124m\"\u001b[39m]\n\u001b[1;32m     18\u001b[0m merged_df[\u001b[38;5;124m\"\u001b[39m\u001b[38;5;124mp_e_ratio\u001b[39m\u001b[38;5;124m\"\u001b[39m] \u001b[38;5;241m=\u001b[39m merged_df[\u001b[38;5;124m\"\u001b[39m\u001b[38;5;124mclose\u001b[39m\u001b[38;5;124m\"\u001b[39m] \u001b[38;5;241m/\u001b[39m merged_df[\u001b[38;5;124m\"\u001b[39m\u001b[38;5;124mearnings_per_share\u001b[39m\u001b[38;5;124m\"\u001b[39m]\n\u001b[1;32m     20\u001b[0m \u001b[38;5;66;03m# Compute 50-day Simple Moving Average (SMA)\u001b[39;00m\n",
      "File \u001b[0;32m/opt/anaconda3/envs/dalmaufc/lib/python3.8/site-packages/pandas/core/frame.py:3761\u001b[0m, in \u001b[0;36mDataFrame.__getitem__\u001b[0;34m(self, key)\u001b[0m\n\u001b[1;32m   3759\u001b[0m \u001b[38;5;28;01mif\u001b[39;00m \u001b[38;5;28mself\u001b[39m\u001b[38;5;241m.\u001b[39mcolumns\u001b[38;5;241m.\u001b[39mnlevels \u001b[38;5;241m>\u001b[39m \u001b[38;5;241m1\u001b[39m:\n\u001b[1;32m   3760\u001b[0m     \u001b[38;5;28;01mreturn\u001b[39;00m \u001b[38;5;28mself\u001b[39m\u001b[38;5;241m.\u001b[39m_getitem_multilevel(key)\n\u001b[0;32m-> 3761\u001b[0m indexer \u001b[38;5;241m=\u001b[39m \u001b[38;5;28;43mself\u001b[39;49m\u001b[38;5;241;43m.\u001b[39;49m\u001b[43mcolumns\u001b[49m\u001b[38;5;241;43m.\u001b[39;49m\u001b[43mget_loc\u001b[49m\u001b[43m(\u001b[49m\u001b[43mkey\u001b[49m\u001b[43m)\u001b[49m\n\u001b[1;32m   3762\u001b[0m \u001b[38;5;28;01mif\u001b[39;00m is_integer(indexer):\n\u001b[1;32m   3763\u001b[0m     indexer \u001b[38;5;241m=\u001b[39m [indexer]\n",
      "File \u001b[0;32m/opt/anaconda3/envs/dalmaufc/lib/python3.8/site-packages/pandas/core/indexes/base.py:3655\u001b[0m, in \u001b[0;36mIndex.get_loc\u001b[0;34m(self, key)\u001b[0m\n\u001b[1;32m   3653\u001b[0m     \u001b[38;5;28;01mreturn\u001b[39;00m \u001b[38;5;28mself\u001b[39m\u001b[38;5;241m.\u001b[39m_engine\u001b[38;5;241m.\u001b[39mget_loc(casted_key)\n\u001b[1;32m   3654\u001b[0m \u001b[38;5;28;01mexcept\u001b[39;00m \u001b[38;5;167;01mKeyError\u001b[39;00m \u001b[38;5;28;01mas\u001b[39;00m err:\n\u001b[0;32m-> 3655\u001b[0m     \u001b[38;5;28;01mraise\u001b[39;00m \u001b[38;5;167;01mKeyError\u001b[39;00m(key) \u001b[38;5;28;01mfrom\u001b[39;00m \u001b[38;5;21;01merr\u001b[39;00m\n\u001b[1;32m   3656\u001b[0m \u001b[38;5;28;01mexcept\u001b[39;00m \u001b[38;5;167;01mTypeError\u001b[39;00m:\n\u001b[1;32m   3657\u001b[0m     \u001b[38;5;66;03m# If we have a listlike key, _check_indexing_error will raise\u001b[39;00m\n\u001b[1;32m   3658\u001b[0m     \u001b[38;5;66;03m#  InvalidIndexError. Otherwise we fall through and re-raise\u001b[39;00m\n\u001b[1;32m   3659\u001b[0m     \u001b[38;5;66;03m#  the TypeError.\u001b[39;00m\n\u001b[1;32m   3660\u001b[0m     \u001b[38;5;28mself\u001b[39m\u001b[38;5;241m.\u001b[39m_check_indexing_error(key)\n",
      "\u001b[0;31mKeyError\u001b[0m: 'net_income'"
     ]
    }
   ],
   "source": [
    "\n",
    "# Convert date columns to datetime format for proper merging\n",
    "balance_sheet_df[\"date\"] = pd.to_datetime(balance_sheet_df[\"date\"])\n",
    "income_df[\"date\"] = pd.to_datetime(income_df[\"date\"])\n",
    "share_prices_df[\"date\"] = pd.to_datetime(share_prices_df[\"date\"])\n",
    "\n",
    "# Merge datasets using a left join on ticker and date\n",
    "merged_df = share_prices_df.merge(income_df, on=[\"ticker\", \"date\"], how=\"left\")\n",
    "merged_df = merged_df.merge(balance_sheet_df, on=[\"ticker\", \"date\"], how=\"left\")\n",
    "\n",
    "# Sort by ticker and date (most recent to oldest)\n",
    "merged_df = merged_df.sort_values(by=[\"date\"], ascending=[True])\n",
    "\n",
    "# Forward-fill missing values for financial data\n",
    "merged_df.fillna(method=\"ffill\", inplace=True)\n",
    "\n",
    "# Compute P/E ratio (Price-to-Earnings Ratio)\n",
    "merged_df[\"earnings_per_share\"] = merged_df[\"net_income\"] / merged_df[\"share_capital\"]\n",
    "merged_df[\"p_e_ratio\"] = merged_df[\"close\"] / merged_df[\"earnings_per_share\"]\n",
    "\n",
    "# Compute 50-day Simple Moving Average (SMA)\n",
    "merged_df[\"sma_50\"] = merged_df.groupby(\"ticker\")[\"close\"].transform(lambda x: x.rolling(window=50, min_periods=1).mean())\n",
    "\n",
    "# Add next day's close price as a target variable\n",
    "merged_df[\"next_close\"] = merged_df.groupby(\"ticker\")[\"close\"].shift(-1)\n",
    "\n",
    "# Drop rows where critical features contain NaN values\n",
    "merged_df = merged_df.dropna(subset=[\"close\", \"p_e_ratio\", \"sma_50\"])\n",
    "\n",
    "# Display the first few rows of the final dataset\n",
    "display(merged_df)"
   ]
  }
 ],
 "metadata": {
  "kernelspec": {
   "display_name": "dalmaufc",
   "language": "python",
   "name": "python3"
  },
  "language_info": {
   "codemirror_mode": {
    "name": "ipython",
    "version": 3
   },
   "file_extension": ".py",
   "mimetype": "text/x-python",
   "name": "python",
   "nbconvert_exporter": "python",
   "pygments_lexer": "ipython3",
   "version": "3.8.18"
  }
 },
 "nbformat": 4,
 "nbformat_minor": 2
}
