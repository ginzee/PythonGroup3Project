{
 "cells": [
  {
   "cell_type": "code",
   "execution_count": 21,
   "metadata": {},
   "outputs": [
    {
     "name": "stdout",
     "output_type": "stream",
     "text": [
      "  Ticker  SimFinId        Date   Open   High    Low  Close  Adj. Close  \\\n",
      "0      A     45846  2019-04-01  80.96  81.77  80.96  81.56       78.33   \n",
      "1      A     45846  2019-04-02  81.71  81.76  81.03  81.14       77.93   \n",
      "2      A     45846  2019-04-03  81.54  82.02  81.46  81.94       78.70   \n",
      "3      A     45846  2019-04-04  81.84  82.05  80.44  80.83       77.63   \n",
      "4      A     45846  2019-04-05  81.19  81.92  81.05  81.47       78.25   \n",
      "\n",
      "    Volume  Dividend  Shares Outstanding  \n",
      "0  1522681      0.16         317515869.0  \n",
      "1  1203037       NaN         317515869.0  \n",
      "2  2141025       NaN         317515869.0  \n",
      "3  2180112       NaN         317515869.0  \n",
      "4  1502875       NaN         317515869.0  \n"
     ]
    }
   ],
   "source": [
    "# opening the simfin data\n",
    "import pandas as pd\n",
    "\n",
    "# Define the file path\n",
    "file_path = \"/Users/samginzburg/simfin_data/download/us-shareprices-daily.csv\"\n",
    "\n",
    "# Read the CSV file with semicolon separator\n",
    "df = pd.read_csv(file_path, sep=';')\n",
    "\n",
    "# Display the first few rows\n",
    "print(df.head())\n"
   ]
  },
  {
   "cell_type": "code",
   "execution_count": 22,
   "metadata": {},
   "outputs": [
    {
     "name": "stdout",
     "output_type": "stream",
     "text": [
      "  Ticker  SimFinId        Date   Open   High    Low  Close  Adj. Close  \\\n",
      "0      A     45846  2019-04-01  80.96  81.77  80.96  81.56       78.33   \n",
      "1      A     45846  2019-04-02  81.71  81.76  81.03  81.14       77.93   \n",
      "2      A     45846  2019-04-03  81.54  82.02  81.46  81.94       78.70   \n",
      "3      A     45846  2019-04-04  81.84  82.05  80.44  80.83       77.63   \n",
      "4      A     45846  2019-04-05  81.19  81.92  81.05  81.47       78.25   \n",
      "\n",
      "    Volume  Dividend  Shares Outstanding  \n",
      "0  1522681      0.16         317515869.0  \n",
      "1  1203037       NaN         317515869.0  \n",
      "2  2141025       NaN         317515869.0  \n",
      "3  2180112       NaN         317515869.0  \n",
      "4  1502875       NaN         317515869.0  \n"
     ]
    }
   ],
   "source": [
    "# opening company data\n",
    "# Define the file path\n",
    "file_path2 = \"/Users/samginzburg/simfin_data/download/us-companies.csv\"\n",
    "\n",
    "# Read the CSV file with semicolon separator\n",
    "df2 = pd.read_csv(file_path2, sep=';')\n",
    "\n",
    "# Display the first few rows\n",
    "print(df.head())\n"
   ]
  },
  {
   "cell_type": "code",
   "execution_count": 23,
   "metadata": {},
   "outputs": [
    {
     "name": "stdout",
     "output_type": "stream",
     "text": [
      "  Ticker_x  SimFinId              Company Name  IndustryId          ISIN  \\\n",
      "0        A     45846  AGILENT TECHNOLOGIES INC    106001.0  US00846U1016   \n",
      "1        A     45846  AGILENT TECHNOLOGIES INC    106001.0  US00846U1016   \n",
      "2        A     45846  AGILENT TECHNOLOGIES INC    106001.0  US00846U1016   \n",
      "3        A     45846  AGILENT TECHNOLOGIES INC    106001.0  US00846U1016   \n",
      "4        A     45846  AGILENT TECHNOLOGIES INC    106001.0  US00846U1016   \n",
      "\n",
      "   End of financial year (month)  Number Employees  \\\n",
      "0                           10.0           16400.0   \n",
      "1                           10.0           16400.0   \n",
      "2                           10.0           16400.0   \n",
      "3                           10.0           16400.0   \n",
      "4                           10.0           16400.0   \n",
      "\n",
      "                                    Business Summary Market        CIK  ...  \\\n",
      "0  Agilent Technologies Inc is engaged in life sc...     us  1090872.0  ...   \n",
      "1  Agilent Technologies Inc is engaged in life sc...     us  1090872.0  ...   \n",
      "2  Agilent Technologies Inc is engaged in life sc...     us  1090872.0  ...   \n",
      "3  Agilent Technologies Inc is engaged in life sc...     us  1090872.0  ...   \n",
      "4  Agilent Technologies Inc is engaged in life sc...     us  1090872.0  ...   \n",
      "\n",
      "  Ticker_y        Date   Open   High    Low  Close  Adj. Close   Volume  \\\n",
      "0        A  2019-04-01  80.96  81.77  80.96  81.56       78.33  1522681   \n",
      "1        A  2019-04-02  81.71  81.76  81.03  81.14       77.93  1203037   \n",
      "2        A  2019-04-03  81.54  82.02  81.46  81.94       78.70  2141025   \n",
      "3        A  2019-04-04  81.84  82.05  80.44  80.83       77.63  2180112   \n",
      "4        A  2019-04-05  81.19  81.92  81.05  81.47       78.25  1502875   \n",
      "\n",
      "   Dividend  Shares Outstanding  \n",
      "0      0.16         317515869.0  \n",
      "1       NaN         317515869.0  \n",
      "2       NaN         317515869.0  \n",
      "3       NaN         317515869.0  \n",
      "4       NaN         317515869.0  \n",
      "\n",
      "[5 rows x 21 columns]\n"
     ]
    }
   ],
   "source": [
    "# Merge dfs\n",
    "merged_df = pd.merge(df2, df, on=\"SimFinId\", how=\"inner\") \n",
    "# Display the first few rows\n",
    "print(merged_df.head())"
   ]
  },
  {
   "cell_type": "code",
   "execution_count": 24,
   "metadata": {},
   "outputs": [
    {
     "name": "stdout",
     "output_type": "stream",
     "text": [
      "  Ticker_x  SimFinId              Company Name  IndustryId          ISIN  \\\n",
      "0        A     45846  AGILENT TECHNOLOGIES INC    106001.0  US00846U1016   \n",
      "1        A     45846  AGILENT TECHNOLOGIES INC    106001.0  US00846U1016   \n",
      "2        A     45846  AGILENT TECHNOLOGIES INC    106001.0  US00846U1016   \n",
      "3        A     45846  AGILENT TECHNOLOGIES INC    106001.0  US00846U1016   \n",
      "4        A     45846  AGILENT TECHNOLOGIES INC    106001.0  US00846U1016   \n",
      "\n",
      "   End of financial year (month)  Number Employees  \\\n",
      "0                           10.0           16400.0   \n",
      "1                           10.0           16400.0   \n",
      "2                           10.0           16400.0   \n",
      "3                           10.0           16400.0   \n",
      "4                           10.0           16400.0   \n",
      "\n",
      "                                    Business Summary Market        CIK  ...  \\\n",
      "0  Agilent Technologies Inc is engaged in life sc...     us  1090872.0  ...   \n",
      "1  Agilent Technologies Inc is engaged in life sc...     us  1090872.0  ...   \n",
      "2  Agilent Technologies Inc is engaged in life sc...     us  1090872.0  ...   \n",
      "3  Agilent Technologies Inc is engaged in life sc...     us  1090872.0  ...   \n",
      "4  Agilent Technologies Inc is engaged in life sc...     us  1090872.0  ...   \n",
      "\n",
      "  Ticker_y        Date   Open   High    Low  Close  Adj. Close   Volume  \\\n",
      "0        A  2019-04-01  80.96  81.77  80.96  81.56       78.33  1522681   \n",
      "1        A  2019-04-02  81.71  81.76  81.03  81.14       77.93  1203037   \n",
      "2        A  2019-04-03  81.54  82.02  81.46  81.94       78.70  2141025   \n",
      "3        A  2019-04-04  81.84  82.05  80.44  80.83       77.63  2180112   \n",
      "4        A  2019-04-05  81.19  81.92  81.05  81.47       78.25  1502875   \n",
      "\n",
      "   Dividend  Shares Outstanding  \n",
      "0      0.16         317515869.0  \n",
      "1       NaN         317515869.0  \n",
      "2       NaN         317515869.0  \n",
      "3       NaN         317515869.0  \n",
      "4       NaN         317515869.0  \n",
      "\n",
      "[5 rows x 21 columns]\n"
     ]
    }
   ],
   "source": [
    "# Isolate 1 company to make it work\n",
    "\n",
    "# Filter the dataset for \"AGILENT TECHNOLOGIES INC\"\n",
    "filtered_df = merged_df[merged_df[\"Company Name\"] == \"AGILENT TECHNOLOGIES INC\"]\n",
    "\n",
    "# Display the first few rows of the filtered data\n",
    "print(filtered_df.head())"
   ]
  },
  {
   "cell_type": "code",
   "execution_count": 25,
   "metadata": {},
   "outputs": [
    {
     "name": "stdout",
     "output_type": "stream",
     "text": [
      "  Ticker_x              Company Name  IndustryId  Number Employees  \\\n",
      "0        A  AGILENT TECHNOLOGIES INC    106001.0           16400.0   \n",
      "1        A  AGILENT TECHNOLOGIES INC    106001.0           16400.0   \n",
      "2        A  AGILENT TECHNOLOGIES INC    106001.0           16400.0   \n",
      "3        A  AGILENT TECHNOLOGIES INC    106001.0           16400.0   \n",
      "4        A  AGILENT TECHNOLOGIES INC    106001.0           16400.0   \n",
      "\n",
      "         Date   Open   High    Low  Close  Adj. Close   Volume  Dividend  \\\n",
      "0  2019-04-01  80.96  81.77  80.96  81.56       78.33  1522681      0.16   \n",
      "1  2019-04-02  81.71  81.76  81.03  81.14       77.93  1203037       NaN   \n",
      "2  2019-04-03  81.54  82.02  81.46  81.94       78.70  2141025       NaN   \n",
      "3  2019-04-04  81.84  82.05  80.44  80.83       77.63  2180112       NaN   \n",
      "4  2019-04-05  81.19  81.92  81.05  81.47       78.25  1502875       NaN   \n",
      "\n",
      "   Shares Outstanding  \n",
      "0         317515869.0  \n",
      "1         317515869.0  \n",
      "2         317515869.0  \n",
      "3         317515869.0  \n",
      "4         317515869.0  \n"
     ]
    }
   ],
   "source": [
    "# Define the list of columns to keep\n",
    "columns_to_keep = [\"Ticker_x\",\n",
    "    \"Company Name\", \"IndustryId\", \"Number Employees\", \"Date\", \"Open\", \n",
    "    \"High\", \"Low\", \"Close\", \"Adj. Close\", \"Volume\", \"Dividend\", \"Shares Outstanding\"\n",
    "]\n",
    "\n",
    "# Select only the specified columns\n",
    "filtered_df = filtered_df[columns_to_keep]\n",
    "\n",
    "# Display the first few rows of the updated DataFrame\n",
    "print(filtered_df.head())"
   ]
  },
  {
   "cell_type": "code",
   "execution_count": 26,
   "metadata": {},
   "outputs": [
    {
     "name": "stdout",
     "output_type": "stream",
     "text": [
      "<class 'pandas.core.frame.DataFrame'>\n",
      "Index: 1240 entries, 0 to 1239\n",
      "Data columns (total 13 columns):\n",
      " #   Column              Non-Null Count  Dtype  \n",
      "---  ------              --------------  -----  \n",
      " 0   Ticker_x            1240 non-null   object \n",
      " 1   Company Name        1240 non-null   object \n",
      " 2   IndustryId          1240 non-null   float64\n",
      " 3   Number Employees    1240 non-null   float64\n",
      " 4   Date                1240 non-null   object \n",
      " 5   Open                1240 non-null   float64\n",
      " 6   High                1240 non-null   float64\n",
      " 7   Low                 1240 non-null   float64\n",
      " 8   Close               1240 non-null   float64\n",
      " 9   Adj. Close          1240 non-null   float64\n",
      " 10  Volume              1240 non-null   int64  \n",
      " 11  Dividend            20 non-null     float64\n",
      " 12  Shares Outstanding  1240 non-null   float64\n",
      "dtypes: float64(9), int64(1), object(3)\n",
      "memory usage: 135.6+ KB\n"
     ]
    }
   ],
   "source": [
    "# Get the info on our dataset to see which other transformations we should make. \n",
    "filtered_df.info()"
   ]
  },
  {
   "cell_type": "code",
   "execution_count": 27,
   "metadata": {},
   "outputs": [
    {
     "name": "stdout",
     "output_type": "stream",
     "text": [
      "  Ticker_x              Company Name  IndustryId  Number Employees       Date  \\\n",
      "0        A  AGILENT TECHNOLOGIES INC    106001.0           16400.0 2019-04-01   \n",
      "1        A  AGILENT TECHNOLOGIES INC    106001.0           16400.0 2019-04-02   \n",
      "2        A  AGILENT TECHNOLOGIES INC    106001.0           16400.0 2019-04-03   \n",
      "3        A  AGILENT TECHNOLOGIES INC    106001.0           16400.0 2019-04-04   \n",
      "4        A  AGILENT TECHNOLOGIES INC    106001.0           16400.0 2019-04-05   \n",
      "\n",
      "    Open   High    Low  Close  Adj. Close   Volume  Dividend  \\\n",
      "0  80.96  81.77  80.96  81.56       78.33  1522681      0.16   \n",
      "1  81.71  81.76  81.03  81.14       77.93  1203037       NaN   \n",
      "2  81.54  82.02  81.46  81.94       78.70  2141025       NaN   \n",
      "3  81.84  82.05  80.44  80.83       77.63  2180112       NaN   \n",
      "4  81.19  81.92  81.05  81.47       78.25  1502875       NaN   \n",
      "\n",
      "   Shares Outstanding  \n",
      "0         317515869.0  \n",
      "1         317515869.0  \n",
      "2         317515869.0  \n",
      "3         317515869.0  \n",
      "4         317515869.0  \n",
      "Ticker_x                      object\n",
      "Company Name                  object\n",
      "IndustryId                   float64\n",
      "Number Employees             float64\n",
      "Date                  datetime64[ns]\n",
      "Open                         float64\n",
      "High                         float64\n",
      "Low                          float64\n",
      "Close                        float64\n",
      "Adj. Close                   float64\n",
      "Volume                         int64\n",
      "Dividend                     float64\n",
      "Shares Outstanding           float64\n",
      "dtype: object\n"
     ]
    }
   ],
   "source": [
    "# Transform Date into timestamp object\n",
    "filtered_df[\"Date\"] = pd.to_datetime(filtered_df[\"Date\"], format='%Y-%m-%d')\n",
    "\n",
    "# Transform Company Name into a string\n",
    "filtered_df[\"Company Name\"] = filtered_df[\"Company Name\"].astype(str)\n",
    "\n",
    "# Display the first few rows to confirm the change\n",
    "print(filtered_df.head())\n",
    "\n",
    "# Check the data type of the \"Company Name\" column\n",
    "print(filtered_df.dtypes)\n"
   ]
  },
  {
   "cell_type": "code",
   "execution_count": 28,
   "metadata": {},
   "outputs": [
    {
     "name": "stdout",
     "output_type": "stream",
     "text": [
      "Ticker_x               0.000000\n",
      "Company Name           0.000000\n",
      "IndustryId             0.000000\n",
      "Number Employees       0.000000\n",
      "Date                   0.000000\n",
      "Open                   0.000000\n",
      "High                   0.000000\n",
      "Low                    0.000000\n",
      "Close                  0.000000\n",
      "Adj. Close             0.000000\n",
      "Volume                 0.000000\n",
      "Dividend              98.387097\n",
      "Shares Outstanding     0.000000\n",
      "dtype: float64\n"
     ]
    }
   ],
   "source": [
    "# Calculate the percentage of missing values per column\n",
    "missing_percentage = (filtered_df.isnull().sum() / len(filtered_df)) * 100\n",
    "\n",
    "# Display the missing values percentage for each column\n",
    "print(missing_percentage)"
   ]
  },
  {
   "cell_type": "markdown",
   "metadata": {},
   "source": [
    "## Analysis\n",
    "- Dividend is missing almost everything. If dividend is meant to be constant, we can just fill in the rest of the values based on the company name. \n",
    "- MERGED DATASET Industry ID is missing only a couple of values. Again, if stable, I can fill it in. \n",
    "- MERGED DATASET Again, is number employees stable? If so, I can fill them in. \n",
    "- MERGED DATASET Shares outstanding is a different situation. \n",
    "## Next Steps\n",
    "- Identify which of these columns are stagnant, and proceed accordingly. "
   ]
  },
  {
   "cell_type": "code",
   "execution_count": 29,
   "metadata": {},
   "outputs": [
    {
     "name": "stdout",
     "output_type": "stream",
     "text": [
      "Ticker_x                 1\n",
      "Company Name             1\n",
      "IndustryId               1\n",
      "Number Employees         1\n",
      "Date                  1240\n",
      "Open                  1144\n",
      "High                  1146\n",
      "Low                   1151\n",
      "Close                 1163\n",
      "Adj. Close            1152\n",
      "Volume                1240\n",
      "Dividend                 6\n",
      "Shares Outstanding      25\n",
      "dtype: int64\n"
     ]
    }
   ],
   "source": [
    "# Count the number of unique values in each column\n",
    "unique_values = filtered_df.nunique()\n",
    "\n",
    "# Display the count of unique values per column\n",
    "print(unique_values)"
   ]
  },
  {
   "cell_type": "code",
   "execution_count": 30,
   "metadata": {},
   "outputs": [
    {
     "name": "stdout",
     "output_type": "stream",
     "text": [
      "  Ticker_x              Company Name  IndustryId  Number Employees       Date  \\\n",
      "0        A  AGILENT TECHNOLOGIES INC    106001.0           16400.0 2019-04-01   \n",
      "1        A  AGILENT TECHNOLOGIES INC    106001.0           16400.0 2019-04-02   \n",
      "2        A  AGILENT TECHNOLOGIES INC    106001.0           16400.0 2019-04-03   \n",
      "3        A  AGILENT TECHNOLOGIES INC    106001.0           16400.0 2019-04-04   \n",
      "4        A  AGILENT TECHNOLOGIES INC    106001.0           16400.0 2019-04-05   \n",
      "\n",
      "    Open   High    Low  Close  Adj. Close   Volume  Dividend  \\\n",
      "0  80.96  81.77  80.96  81.56       78.33  1522681      0.16   \n",
      "1  81.71  81.76  81.03  81.14       77.93  1203037      0.00   \n",
      "2  81.54  82.02  81.46  81.94       78.70  2141025      0.00   \n",
      "3  81.84  82.05  80.44  80.83       77.63  2180112      0.00   \n",
      "4  81.19  81.92  81.05  81.47       78.25  1502875      0.00   \n",
      "\n",
      "   Shares Outstanding  \n",
      "0         317515869.0  \n",
      "1         317515869.0  \n",
      "2         317515869.0  \n",
      "3         317515869.0  \n",
      "4         317515869.0  \n",
      "0\n"
     ]
    }
   ],
   "source": [
    "# We fill in Dividend values with 0, because dividend is unique to one date, and the rest of the days people get nothing. \n",
    "# Fill missing values in the \"Dividend\" column with 0\n",
    "filtered_df[\"Dividend\"] = filtered_df[\"Dividend\"].fillna(0)\n",
    "\n",
    "# Display the first few rows to confirm changes\n",
    "print(filtered_df.head())\n",
    "\n",
    "# Verify that there are no more missing values in the \"Dividend\" column\n",
    "print(filtered_df[\"Dividend\"].isnull().sum())\n"
   ]
  },
  {
   "cell_type": "markdown",
   "metadata": {},
   "source": [
    "## Let's try to understand the entire dataset, because it seems to perform differently from just the one company. \n",
    "- First step, determine the percentage of missing values\n",
    "- Then export the missing values to see where they exist and if they exist in groups. "
   ]
  },
  {
   "cell_type": "code",
   "execution_count": 31,
   "metadata": {},
   "outputs": [],
   "source": [
    "merged_df[\"Date\"] = pd.to_datetime(merged_df[\"Date\"], format='%Y-%m-%d')\n",
    "\n",
    "# Transform Company Name into a string\n",
    "merged_df[\"Company Name\"] = merged_df[\"Company Name\"].astype(str)"
   ]
  },
  {
   "cell_type": "code",
   "execution_count": 33,
   "metadata": {},
   "outputs": [
    {
     "name": "stdout",
     "output_type": "stream",
     "text": [
      "  Ticker_x              Company Name  IndustryId  Number Employees       Date  \\\n",
      "0        A  AGILENT TECHNOLOGIES INC    106001.0           16400.0 2019-04-01   \n",
      "1        A  AGILENT TECHNOLOGIES INC    106001.0           16400.0 2019-04-02   \n",
      "2        A  AGILENT TECHNOLOGIES INC    106001.0           16400.0 2019-04-03   \n",
      "3        A  AGILENT TECHNOLOGIES INC    106001.0           16400.0 2019-04-04   \n",
      "4        A  AGILENT TECHNOLOGIES INC    106001.0           16400.0 2019-04-05   \n",
      "\n",
      "    Open   High    Low  Close  Adj. Close   Volume  Dividend  \\\n",
      "0  80.96  81.77  80.96  81.56       78.33  1522681      0.16   \n",
      "1  81.71  81.76  81.03  81.14       77.93  1203037       NaN   \n",
      "2  81.54  82.02  81.46  81.94       78.70  2141025       NaN   \n",
      "3  81.84  82.05  80.44  80.83       77.63  2180112       NaN   \n",
      "4  81.19  81.92  81.05  81.47       78.25  1502875       NaN   \n",
      "\n",
      "   Shares Outstanding  \n",
      "0         317515869.0  \n",
      "1         317515869.0  \n",
      "2         317515869.0  \n",
      "3         317515869.0  \n",
      "4         317515869.0  \n"
     ]
    }
   ],
   "source": [
    "# Define the list of columns to keep\n",
    "columns_to_keep = [\"Ticker_x\",\n",
    "    \"Company Name\", \"IndustryId\", \"Number Employees\", \"Date\", \"Open\", \n",
    "    \"High\", \"Low\", \"Close\", \"Adj. Close\", \"Volume\", \"Dividend\", \"Shares Outstanding\"\n",
    "]\n",
    "\n",
    "# Select only the specified columns\n",
    "merged_df = merged_df[columns_to_keep]\n",
    "\n",
    "# Display the first few rows of the updated DataFrame\n",
    "print(merged_df.head())"
   ]
  },
  {
   "cell_type": "code",
   "execution_count": 34,
   "metadata": {},
   "outputs": [
    {
     "name": "stdout",
     "output_type": "stream",
     "text": [
      "Ticker_x              0.000000\n",
      "Company Name          0.000000\n",
      "IndustryId            0.914327\n",
      "Number Employees      5.198672\n",
      "Date                  0.000000\n",
      "Open                  0.000000\n",
      "High                  0.000000\n",
      "Low                   0.000000\n",
      "Close                 0.000000\n",
      "Adj. Close            0.000000\n",
      "Volume                0.000000\n",
      "Dividend              0.000000\n",
      "Shares Outstanding    8.965373\n",
      "dtype: float64\n"
     ]
    }
   ],
   "source": [
    "# Change all Dividend missing in merged to 0 and then try to fix others\n",
    "merged_df[\"Dividend\"] = merged_df[\"Dividend\"].fillna(0)\n",
    "\n",
    "# Calculate the percentage of missing values per column\n",
    "missing_percentage = (merged_df.isnull().sum() / len(merged_df)) * 100\n",
    "\n",
    "# Display the missing values percentage for each column\n",
    "print(missing_percentage)"
   ]
  },
  {
   "cell_type": "code",
   "execution_count": 35,
   "metadata": {},
   "outputs": [
    {
     "name": "stdout",
     "output_type": "stream",
     "text": [
      "CSV file with missing data rows saved to: /Users/samginzburg/simfin_data/missing_data_rows.csv\n"
     ]
    }
   ],
   "source": [
    "# Filter rows where at least one column has missing data\n",
    "missing_data_rows = merged_df[merged_df.isnull().any(axis=1)]\n",
    "\n",
    "# Define the output file path\n",
    "output_path = \"/Users/samginzburg/simfin_data/missing_data_rows.csv\"\n",
    "\n",
    "# Export the filtered dataset to a CSV file\n",
    "missing_data_rows.to_csv(output_path, index=False)\n",
    "\n",
    "# Print confirmation message\n",
    "print(f\"CSV file with missing data rows saved to: {output_path}\")"
   ]
  },
  {
   "cell_type": "markdown",
   "metadata": {},
   "source": [
    "## Insights\n",
    "- Not sure what to do with the missing Shares Outstanding, No Employees, and Industry.\n",
    "- Two ways to proceed.\n",
    "1. Keep missing data, and train model on entire dataset\n",
    " or remove missing data and train model on entire dataset\n",
    "2. Only pick companies with no missing data and train model on that"
   ]
  },
  {
   "cell_type": "code",
   "execution_count": 36,
   "metadata": {},
   "outputs": [
    {
     "name": "stderr",
     "output_type": "stream",
     "text": [
      "/var/folders/91/rjyzry6x6nxbh21yy7l8hc800000gn/T/ipykernel_2606/4000884963.py:2: FutureWarning: A value is trying to be set on a copy of a DataFrame or Series through chained assignment using an inplace method.\n",
      "The behavior will change in pandas 3.0. This inplace method will never work because the intermediate object on which we are setting values always behaves as a copy.\n",
      "\n",
      "For example, when doing 'df[col].method(value, inplace=True)', try using 'df.method({col: value}, inplace=True)' or df[col] = df[col].method(value) instead, to perform the operation inplace on the original object.\n",
      "\n",
      "\n",
      "  merged_df[\"IndustryId\"].fillna(-1, inplace=True)\n"
     ]
    },
    {
     "name": "stdout",
     "output_type": "stream",
     "text": [
      "Ticker_x              0\n",
      "Company Name          0\n",
      "IndustryId            0\n",
      "Number Employees      0\n",
      "Date                  0\n",
      "Open                  0\n",
      "High                  0\n",
      "Low                   0\n",
      "Close                 0\n",
      "Adj. Close            0\n",
      "Volume                0\n",
      "Dividend              0\n",
      "Shares Outstanding    0\n",
      "dtype: int64\n"
     ]
    }
   ],
   "source": [
    "# Fill missing IndustryId with -1 (as a placeholder)\n",
    "merged_df[\"IndustryId\"].fillna(-1, inplace=True)\n",
    "\n",
    "# Fill Number Employees with the mean per IndustryId\n",
    "merged_df[\"Number Employees\"] = merged_df.groupby(\"IndustryId\")[\"Number Employees\"].transform(lambda x: x.fillna(x.mean()))\n",
    "\n",
    "# Fill Shares Outstanding with the mean per IndustryId\n",
    "merged_df[\"Shares Outstanding\"] = merged_df.groupby(\"IndustryId\")[\"Shares Outstanding\"].transform(lambda x: x.fillna(x.mean()))\n",
    "\n",
    "# Check if any missing values remain\n",
    "print(merged_df.isnull().sum())"
   ]
  },
  {
   "cell_type": "markdown",
   "metadata": {},
   "source": [
    "# The idea here was to build a giant dataframe, where there would be a general model predicting prices that could take into consideration extra parameters such as industry. However, this dataset proved too big. So we will advance with individual models for each company. "
   ]
  },
  {
   "cell_type": "code",
   "execution_count": 17,
   "metadata": {},
   "outputs": [],
   "source": [
    "# Perform one-hot encoding on categorical variables\n",
    "# merged_encoded_df = pd.get_dummies(merged_df, columns=[\"Company Name\", \"IndustryId\"])\n"
   ]
  },
  {
   "cell_type": "code",
   "execution_count": 18,
   "metadata": {},
   "outputs": [],
   "source": [
    "# Compute the correlation matrix\n",
    "# correlation_matrix = merged_encoded_df.corr()\n",
    "\n",
    "# Extract correlation of all features with \"Close\"\n",
    "# close_correlation = correlation_matrix[\"Close\"].sort_values(ascending=False)\n",
    "\n",
    "# Display correlation values\n",
    "# print(close_correlation)"
   ]
  },
  {
   "cell_type": "code",
   "execution_count": null,
   "metadata": {},
   "outputs": [
    {
     "name": "stdout",
     "output_type": "stream",
     "text": [
      "['Apple Hospitality REIT, Inc.' 'Alphabet (Google)' 'Meta Platforms, Inc.'\n",
      " 'Tesla']\n",
      "                        Company Name  IndustryId  Number Employees       Date  \\\n",
      "357441  Apple Hospitality REIT, Inc.    109001.0              63.0 2019-04-01   \n",
      "357442  Apple Hospitality REIT, Inc.    109001.0              63.0 2019-04-02   \n",
      "357443  Apple Hospitality REIT, Inc.    109001.0              63.0 2019-04-03   \n",
      "357444  Apple Hospitality REIT, Inc.    109001.0              63.0 2019-04-04   \n",
      "357445  Apple Hospitality REIT, Inc.    109001.0              63.0 2019-04-05   \n",
      "\n",
      "         Open   High    Low  Close  Adj. Close   Volume  Dividend  \\\n",
      "357441  16.37  16.56  16.33  16.56       12.75  1173656       0.0   \n",
      "357442  16.45  16.55  16.35  16.51       12.79   966288       0.1   \n",
      "357443  16.52  16.68  16.48  16.57       12.84  1193470       0.0   \n",
      "357444  16.55  16.73  16.54  16.66       12.91  1016720       0.0   \n",
      "357445  16.64  16.83  16.64  16.73       12.96   940956       0.0   \n",
      "\n",
      "        Shares Outstanding  \n",
      "357441        1.364782e+08  \n",
      "357442        1.364782e+08  \n",
      "357443        1.364782e+08  \n",
      "357444        1.364782e+08  \n",
      "357445        1.364782e+08  \n"
     ]
    }
   ],
   "source": [
    "# magnificent_7_regex = [\n",
    " #   r\"\\bApple\\b\",       # Matches \"Apple Inc\", \"Apple Corporation\", etc.\n",
    " #   r\"\\bMicrosoft\\b\",   # Matches \"Microsoft Corporation\"\n",
    " #   r\"\\bAlphabet\\b\",    # Matches \"Alphabet Inc Class A\", \"Alphabet Inc\"\n",
    " #   r\"\\bAmazon\\b\",      # Matches \"Amazon.com, Inc\"\n",
    " #   r\"\\bNvidia\\b\",      # Matches \"Nvidia Corporation\"\n",
    " #   r\"\\bTesla\\b\",       # Matches \"Tesla, Inc\"\n",
    " #   r\"\\bMeta\\b\"         # Matches \"Meta Platforms, Inc\" (formerly Facebook)\n",
    "#]\n",
    "\n",
    "# Combine regex patterns\n",
    "#magnificent_7_pattern = \"|\".join(magnificent_7_regex)\n",
    "\n",
    "# Filter dataset to include only Magnificent 7 stocks\n",
    "#filtered_df = merged_df[merged_df[\"Company Name\"].str.contains(magnificent_7_pattern, na=False, regex=True)]\n",
    "\n",
    "# Display filtered results\n",
    "#print(filtered_df[\"Company Name\"].unique())\n",
    "#print(filtered_df.head())"
   ]
  },
  {
   "cell_type": "markdown",
   "metadata": {},
   "source": [
    "# Filtering by company name didn't work, so we went back, added in the ticker column, and we're going to proceed by filtering for the companies' specific tickers. "
   ]
  },
  {
   "cell_type": "code",
   "execution_count": 38,
   "metadata": {},
   "outputs": [
    {
     "name": "stdout",
     "output_type": "stream",
     "text": [
      "Filtered Unique Tickers: ['AAPL' 'AMZN' 'GOOG' 'META' 'MSFT' 'NVDA' 'TSLA']\n",
      "      Ticker_x Company Name  IndustryId  Number Employees       Date   Open  \\\n",
      "14264     AAPL    APPLE INC    101001.0          147000.0 2019-04-01  47.91   \n",
      "14265     AAPL    APPLE INC    101001.0          147000.0 2019-04-02  47.77   \n",
      "14266     AAPL    APPLE INC    101001.0          147000.0 2019-04-03  48.31   \n",
      "14267     AAPL    APPLE INC    101001.0          147000.0 2019-04-04  48.70   \n",
      "14268     AAPL    APPLE INC    101001.0          147000.0 2019-04-05  49.11   \n",
      "\n",
      "        High    Low  Close  Adj. Close     Volume  Dividend  \\\n",
      "14264  47.92  47.09  47.81       45.81  111447856       0.0   \n",
      "14265  48.62  47.76  48.51       46.47   91062928       0.0   \n",
      "14266  49.12  48.29  48.84       46.79   93087320       0.0   \n",
      "14267  49.09  48.28  48.92       46.87   76457100       0.0   \n",
      "14268  49.27  48.98  49.25       47.19   74106576       0.0   \n",
      "\n",
      "       Shares Outstanding  \n",
      "14264        1.842914e+10  \n",
      "14265        1.842914e+10  \n",
      "14266        1.842914e+10  \n",
      "14267        1.842914e+10  \n",
      "14268        1.842914e+10  \n"
     ]
    }
   ],
   "source": [
    "magnificent_7_tickers = [\"AAPL\", \"MSFT\", \"GOOGL\", \"GOOG\", \"AMZN\", \"NVDA\", \"TSLA\", \"META\"]\n",
    "# Filter dataset to only include the Magnificent 7 tickers\n",
    "filtered_df = merged_df[merged_df[\"Ticker_x\"].isin(magnificent_7_tickers)]\n",
    "\n",
    "# Display the unique tickers in the filtered dataset (as a final check)\n",
    "print(\"Filtered Unique Tickers:\", filtered_df[\"Ticker_x\"].unique())\n",
    "\n",
    "# Display first few rows to confirm filtering\n",
    "print(filtered_df.head())"
   ]
  },
  {
   "cell_type": "code",
   "execution_count": 40,
   "metadata": {},
   "outputs": [
    {
     "name": "stdout",
     "output_type": "stream",
     "text": [
      "Filtered dataset saved to: /Users/samginzburg/Documents/magnificent_7_filtered.csv\n"
     ]
    }
   ],
   "source": [
    "# Define output file path (change the path as needed)\n",
    "output_path = \"/Users/samginzburg/Documents/magnificent_7_filtered.csv\"  # Adjust this path to your preferred location\n",
    "\n",
    "# Save the filtered dataset to a CSV file\n",
    "filtered_df.to_csv(output_path, index=False)\n",
    "\n",
    "# Confirm save location\n",
    "print(f\"Filtered dataset saved to: {output_path}\")\n"
   ]
  },
  {
   "cell_type": "code",
   "execution_count": 41,
   "metadata": {},
   "outputs": [
    {
     "data": {
      "image/png": "[encoded data removed]",
      "text/plain": [
       "<Figure size 1200x800 with 2 Axes>"
      ]
     },
     "metadata": {},
     "output_type": "display_data"
    },
    {
     "name": "stdout",
     "output_type": "stream",
     "text": [
      "Close                 1.000000\n",
      "Adj. Close            0.999752\n",
      "Low                   0.999677\n",
      "High                  0.999652\n",
      "Open                  0.999326\n",
      "Dividend              0.055032\n",
      "IndustryId            0.028248\n",
      "Number Employees     -0.049787\n",
      "Volume               -0.554616\n",
      "Shares Outstanding   -0.687222\n",
      "Name: Close, dtype: float64\n"
     ]
    }
   ],
   "source": [
    "import seaborn as sns\n",
    "import matplotlib.pyplot as plt\n",
    "import numpy as np\n",
    "\n",
    "# Drop non-numeric columns before correlation analysis\n",
    "numeric_df = filtered_df.select_dtypes(include=[np.number])\n",
    "\n",
    "# Compute correlation matrix\n",
    "correlation_matrix = numeric_df.corr()\n",
    "\n",
    "# Display correlation matrix visually\n",
    "plt.figure(figsize=(12, 8))\n",
    "sns.heatmap(correlation_matrix, annot=True, cmap=\"coolwarm\", fmt=\".2f\", linewidths=0.5)\n",
    "plt.title(\"Feature Correlation Matrix\")\n",
    "plt.show()\n",
    "\n",
    "# Return correlation values sorted by correlation with \"Close\"\n",
    "correlation_with_close = correlation_matrix[\"Close\"].sort_values(ascending=False)\n",
    "print(correlation_with_close)"
   ]
  },
  {
   "cell_type": "code",
   "execution_count": 42,
   "metadata": {},
   "outputs": [
    {
     "name": "stdout",
     "output_type": "stream",
     "text": [
      "      Ticker_x Company Name       Date  Close     Volume  Shares Outstanding\n",
      "14264     AAPL    APPLE INC 2019-04-01  47.81  111447856        1.842914e+10\n",
      "14265     AAPL    APPLE INC 2019-04-02  48.51   91062928        1.842914e+10\n",
      "14266     AAPL    APPLE INC 2019-04-03  48.84   93087320        1.842914e+10\n",
      "14267     AAPL    APPLE INC 2019-04-04  48.92   76457100        1.842914e+10\n",
      "14268     AAPL    APPLE INC 2019-04-05  49.25   74106576        1.842914e+10\n",
      "Remaining columns: Index(['Ticker_x', 'Company Name', 'Date', 'Close', 'Volume',\n",
      "       'Shares Outstanding'],\n",
      "      dtype='object')\n"
     ]
    }
   ],
   "source": [
    "# Define the columns to drop\n",
    "columns_to_drop = [\n",
    "    \"IndustryId\", \n",
    "    \"Number Employees\", \n",
    "    \"Open\", \n",
    "    \"High\", \n",
    "    \"Low\", \n",
    "    \"Dividend\", \n",
    "    \"Adj. Close\"\n",
    "]\n",
    "\n",
    "# Drop the columns\n",
    "filtered_df = filtered_df.drop(columns=columns_to_drop)\n",
    "\n",
    "# Display the updated dataset to verify\n",
    "print(filtered_df.head())\n",
    "print(\"Remaining columns:\", filtered_df.columns)\n"
   ]
  }
 ],
 "metadata": {
  "kernelspec": {
   "display_name": "base",
   "language": "python",
   "name": "python3"
  },
  "language_info": {
   "codemirror_mode": {
    "name": "ipython",
    "version": 3
   },
   "file_extension": ".py",
   "mimetype": "text/x-python",
   "name": "python",
   "nbconvert_exporter": "python",
   "pygments_lexer": "ipython3",
   "version": "3.12.4"
  }
 },
 "nbformat": 4,
 "nbformat_minor": 2
}
